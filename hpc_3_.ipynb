{
  "nbformat": 4,
  "nbformat_minor": 0,
  "metadata": {
    "colab": {
      "provenance": []
    },
    "kernelspec": {
      "name": "python3",
      "display_name": "Python 3"
    },
    "language_info": {
      "name": "python"
    }
  },
  "cells": [
    {
      "cell_type": "code",
      "source": [
        "%%writefile ParallelReduction.cpp \n",
        "#include <iostream>\n",
        "#include<climits> \n",
        "#include <vector> \n",
        "#include <omp.h>\n",
        "\n",
        "using namespace std;\n",
        "\n",
        "void min_reduction(vector<int>& arr){ \n",
        "\tint min_value =INT_MAX;\n",
        "    #pragma omp parallel for reduction(min: min_value)\n",
        "\tfor (int i=0; i<arr.size();i++) \n",
        "\t {\n",
        "      if (arr[i] < min_value) \n",
        "\t  { \n",
        "\t\tmin_value = arr[i];\n",
        "      }\n",
        "\t  }\n",
        "\t cout << \"Minimum value: \" << min_value << endl;\n",
        "}\n",
        "\n",
        "\n",
        "void max_reduction(vector<int>& arr) { \n",
        "\tint max_value = INT_MIN;\n",
        "    #pragma omp parallel for reduction(max: max_value) \n",
        "\tfor (int i = 0; i < arr.size(); i++) \n",
        "\t{\n",
        "\t\tif (arr[i] > max_value) { \n",
        "\t\t\tmax_value = arr[i];\n",
        "\t\t\t}\n",
        "    }\n",
        "    cout << \"Maximum value: \" << max_value << endl;\n",
        "}\n",
        "\n",
        "void sum_reduction(vector<int>& arr) { \n",
        "\tint sum = 0;\n",
        "    #pragma omp parallel for reduction(+: sum) \n",
        "\tfor (int i = 0; i < arr.size(); i++) {\n",
        "\t\tsum += arr[i];\n",
        "\t\t}\n",
        "\t\tcout << \"Sum: \" << sum << endl;\n",
        "}\n",
        "\n",
        "\n",
        "void average_reduction(vector<int>& arr) { \n",
        "\tint sum = 0;\n",
        "    #pragma omp parallel for reduction(+: sum) \n",
        "\tfor (int i = 0; i < arr.size(); i++) \n",
        "\t{\n",
        "\t\tsum += arr[i];\n",
        "\t\t}\n",
        "\t\tcout << \"Average: \" << (double)sum / arr.size() << endl;\n",
        "}\n",
        "\n",
        "int main() {\n",
        "\tint n,num;\n",
        "    cout<<\"Enter the number of elements :\"; cin>>n;\n",
        "\n",
        "    vector<int> arr;\n",
        "\tfor (int i=0;i<n;i++)\n",
        "\t{\n",
        "\t\tcout<<\"Enter element \"<<i+1<<\": \"; cin>>num;\n",
        "\t    arr.push_back(num);\n",
        "    }\n",
        "\tcout <<\"Input Is:\"<<endl;\n",
        "\tfor (int i = 0; i < arr.size(); i++) \n",
        "\t{  \n",
        "\t\tcout <<arr[i] <<\" \";\n",
        "\t}\n",
        "\tmin_reduction(arr); \n",
        "\tmax_reduction(arr); \n",
        "\tsum_reduction(arr); \n",
        "  average_reduction(arr);\n",
        "}\n"
      ],
      "metadata": {
        "colab": {
          "base_uri": "https://localhost:8080/"
        },
        "id": "DUGH5hC2TK46",
        "outputId": "f7310936-6002-4eb0-f943-46a2988c4210"
      },
      "execution_count": 15,
      "outputs": [
        {
          "output_type": "stream",
          "name": "stdout",
          "text": [
            "Overwriting ParallelReduction.cpp\n"
          ]
        }
      ]
    },
    {
      "cell_type": "code",
      "source": [
        "!g++ -fopenmp ParallelReduction.cpp -o parallel_prog"
      ],
      "metadata": {
        "id": "90g9AY47UeHP"
      },
      "execution_count": 16,
      "outputs": []
    },
    {
      "cell_type": "code",
      "source": [
        "!./parallel_prog"
      ],
      "metadata": {
        "colab": {
          "base_uri": "https://localhost:8080/"
        },
        "id": "ewO2ln0dUlvq",
        "outputId": "65f2d146-7535-427e-eda1-c140b8d4bab4"
      },
      "execution_count": 17,
      "outputs": [
        {
          "output_type": "stream",
          "name": "stdout",
          "text": [
            "Enter the number of elements :\n",
            "10\n",
            "Enter element 1: 20\n",
            "Enter element 2: 44\n",
            "Enter element 3: 55\n",
            "Enter element 4: 71\n",
            "Enter element 5: 85\n",
            "Enter element 6: 95\n",
            "Enter element 7: 34\n",
            "Enter element 8: 62\n",
            "Enter element 9: 50\n",
            "Enter element 10: 80\n",
            "Input Is:\n",
            "20 44 55 71 85 95 34 62 50 80 Minimum value: 20\n",
            "Maximum value: 95\n",
            "Sum: 596\n",
            "Average: 59.6\n"
          ]
        }
      ]
    },
    {
      "cell_type": "code",
      "source": [],
      "metadata": {
        "id": "pTuAdZgcUsfc"
      },
      "execution_count": null,
      "outputs": []
    }
  ]
}