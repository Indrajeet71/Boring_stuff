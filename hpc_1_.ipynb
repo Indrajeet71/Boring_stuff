{
  "nbformat": 4,
  "nbformat_minor": 0,
  "metadata": {
    "colab": {
      "provenance": []
    },
    "kernelspec": {
      "name": "python3",
      "display_name": "Python 3"
    },
    "language_info": {
      "name": "python"
    }
  },
  "cells": [
    {
      "cell_type": "code",
      "source": [
        "%%writefile bfs.cpp\n",
        "#include<iostream>\n",
        "#include<stdlib.h>\n",
        "#include<queue>\n",
        "using namespace std;\n",
        "\n",
        "\n",
        "class Node\n",
        "{\n",
        "   public:\n",
        "    Node *left, *right;\n",
        "    int data;\n",
        "\n",
        "    Node(int data){\n",
        "        this->data = data;\n",
        "        left = NULL;\n",
        "        right = NULL;\n",
        "\n",
        "    }\n",
        "};    \n",
        "\n",
        "class Tree\n",
        "{\n",
        " \n",
        "    Node* root = NULL;\n",
        " public:\n",
        " \tNode *insert(Node *root, int data){\n",
        "        \n",
        "        if(!root){\n",
        "            root = new Node(data);\n",
        "            return root;\n",
        "        }\n",
        "    \n",
        "        if(data < root->data){\n",
        "            root->left = insert(root->left,data);\n",
        "        }\n",
        "\n",
        "        else{\n",
        "            root->right = insert(root->right,data);\n",
        "        }\n",
        "\n",
        "        return root;\n",
        "    }\n",
        "\n",
        " \tbool bfs(Node *head,int data){\n",
        "        queue<Node*> q;\n",
        "        q.push(head);\n",
        "        bool flag = 0;\n",
        "        \n",
        "        int qSize;\n",
        "        \n",
        "        while (!q.empty()){\n",
        "            qSize = q.size();\n",
        "            #pragma omp parallel for\n",
        "                    //creates parallel threads\n",
        "            for (int i = 0; i < qSize; i++){\n",
        "                Node* currNode;\n",
        "                #pragma omp critical\n",
        "                {\n",
        "                currNode = q.front();\n",
        "                q.pop();\n",
        "                cout<<currNode->data<<\"\\t\";\n",
        "                if(currNode->data == data){\n",
        "                    // cout<<\"Element Found\";\n",
        "                    flag = 1;\n",
        "                }\n",
        "                \n",
        "                }// prints parent Node\n",
        "                #pragma omp critical\n",
        "                {\n",
        "                    if(currNode->left)// push parent's left Node in queue\n",
        "                        q.push(currNode->left);\n",
        "                    if(currNode->right)\n",
        "                        q.push(currNode->right);\n",
        "                }// push parent's right Node in queue   \t \n",
        "\n",
        "            }\n",
        "        }\n",
        "        // cout<<\"Element Not found\";\n",
        "        cout<<endl;\n",
        "        return flag;\n",
        "\n",
        "    }\n",
        "};\n",
        "\n",
        "int main(){\n",
        "    Node *root=NULL;\n",
        "    int data;\n",
        "    int n;\n",
        "    char ans;\n",
        "    Tree t;\n",
        "\n",
        "    cout<<\"Enter Number of Nodes : \";\n",
        "    cin>>n;\n",
        "\n",
        "    for(int i = 0; i < n; i++){\n",
        "        cout<<\"enter data:\";\n",
        "   \t    cin>>data;\n",
        "        root = t.insert(root,data);\n",
        "    }\n",
        "\n",
        "    // t.bfs(root,7);\n",
        "    int search;\n",
        "    cout<<\"Enter Element to be search \";\n",
        "    cin>>search;\n",
        "    if(t.bfs(root,search)){\n",
        "        cout<<\"Element is present\"<<endl;\n",
        "    }\n",
        "    else{\n",
        "        cout<<\"Element is not present\"<<endl;\n",
        "    }\n",
        "    cout<<endl;\n",
        "    \n",
        "    return 0;\n",
        "}\n"
      ],
      "metadata": {
        "colab": {
          "base_uri": "https://localhost:8080/"
        },
        "id": "e_JEdXGuh2F3",
        "outputId": "c00c808a-da34-4787-8100-2b20eb3de74f"
      },
      "execution_count": 5,
      "outputs": [
        {
          "output_type": "stream",
          "name": "stdout",
          "text": [
            "Overwriting bfs.cpp\n"
          ]
        }
      ]
    },
    {
      "cell_type": "code",
      "source": [
        "!g++ -fopenmp bfs.cpp -o bfs_porg"
      ],
      "metadata": {
        "id": "m_enV2tzTEUQ"
      },
      "execution_count": 6,
      "outputs": []
    },
    {
      "cell_type": "code",
      "source": [
        "!./bfs_porg"
      ],
      "metadata": {
        "colab": {
          "base_uri": "https://localhost:8080/"
        },
        "id": "rq85HDeNTIw7",
        "outputId": "ef6329d0-f3fd-4439-d3c3-3e6e23730dc6"
      },
      "execution_count": 8,
      "outputs": [
        {
          "output_type": "stream",
          "name": "stdout",
          "text": [
            "Enter Number of Nodes : 5\n",
            "enter data:1 2 3 4 5 \n",
            "enter data:enter data:enter data:enter data:Enter Element to be search 4\n",
            "1\t2\t3\t4\t5\t\n",
            "Element is present\n",
            "\n"
          ]
        }
      ]
    },
    {
      "cell_type": "code",
      "source": [
        "%%writefile dfs.cpp\n",
        "#include <iostream>\n",
        "#include <vector>\n",
        "#include <stack>\n",
        "#include <omp.h>\n",
        "\n",
        "using namespace std;\n",
        "\n",
        "const int MAX = 100000;\n",
        "vector<int> graph[MAX];\n",
        "bool visited[MAX];\n",
        "\n",
        "int dfs(int node,int data) {\n",
        "\tstack<int> s;\n",
        "\ts.push(node);\n",
        "\n",
        "\twhile (!s.empty()) {\n",
        "    \tint curr_node = s.top();\n",
        "    \ts.pop();\n",
        "\n",
        "    \tif (!visited[curr_node]) {\n",
        "        \tvisited[curr_node] = true;\n",
        "        \t\n",
        "        \tif (visited[curr_node]) {\n",
        "        \tcout << curr_node << \" \";\n",
        "\t\t\tif(curr_node == data){\n",
        "\t\t\t\treturn 1;\n",
        "\t\t\t}\n",
        "    \t}\n",
        "\n",
        "        \t#pragma omp parallel for\n",
        "        \tfor (int i = 0; i < graph[curr_node].size(); i++) {\n",
        "            \tint adj_node = graph[curr_node][i];\n",
        "            \tif (!visited[adj_node]) {\n",
        "                \ts.push(adj_node);\n",
        "            \t}\n",
        "        \t}\n",
        "    \t}\n",
        "\t}\n",
        "\tcout<<endl;\n",
        "\treturn 0;\n",
        "}\n",
        "\n",
        "int main() {\n",
        "\tint n, m, start_node,u,v;\n",
        "\tcout << \"Enter No of Node,Edges,and start node:\" ;\n",
        "\tcin >> n >> m >> start_node;\n",
        "         //n: node,m:edges\n",
        "         \n",
        "\t\n",
        "\t\tfor (int i = 0; i < m; i++){\n",
        "\n",
        "\t\t\tcout << \"Enter Pair of edge:\" ;\n",
        "\t\t\tcin >> u >> v;\n",
        "\t\t//u and v: Pair of edges\n",
        "    \tgraph[u].push_back(v);\n",
        "    \tgraph[v].push_back(u);\n",
        "\t}\n",
        "\n",
        "\t#pragma omp parallel for\n",
        "\tfor (int i = 0; i < n; i++) {\n",
        "    \tvisited[i] = false;\n",
        "\t}\n",
        "\n",
        "\tint search;\n",
        "\tcout<<\"Enter Element to be search \";\n",
        "    cin>>search;\n",
        "\n",
        "\tif(dfs(start_node,search)){\n",
        "\t\tcout<<\"Element Found\"<<endl;\n",
        "\t}\n",
        "\telse{\n",
        "\t\tcout<<\"Element Not Found\"<<endl;\n",
        "\t}\n",
        "\n",
        "\treturn 0;\n",
        "}\n",
        "\n"
      ],
      "metadata": {
        "colab": {
          "base_uri": "https://localhost:8080/"
        },
        "id": "DUGH5hC2TK46",
        "outputId": "326a9d83-8880-44ab-8e0a-3c2a870e22c5"
      },
      "execution_count": 9,
      "outputs": [
        {
          "output_type": "stream",
          "name": "stdout",
          "text": [
            "Writing dfs.cpp\n"
          ]
        }
      ]
    },
    {
      "cell_type": "code",
      "source": [
        "!g++ -fopenmp dfs.cpp -o dfs_prog"
      ],
      "metadata": {
        "id": "90g9AY47UeHP"
      },
      "execution_count": 11,
      "outputs": []
    },
    {
      "cell_type": "code",
      "source": [
        "!./dfs_prog"
      ],
      "metadata": {
        "colab": {
          "base_uri": "https://localhost:8080/"
        },
        "id": "ewO2ln0dUlvq",
        "outputId": "251295ee-91dd-47cd-963b-5e0f8cfcb284"
      },
      "execution_count": 12,
      "outputs": [
        {
          "output_type": "stream",
          "name": "stdout",
          "text": [
            "Enter No of Node,Edges,and start node:8\n",
            "7\n",
            "1\n",
            "Enter Pair of edge:1 2 \n",
            "Enter Pair of edge:1 3\n",
            "Enter Pair of edge:2 4\n",
            "Enter Pair of edge:2 5\n",
            "Enter Pair of edge:5 6\n",
            "Enter Pair of edge:5 7\n",
            "Enter Pair of edge:5 8\n",
            "Enter Element to be search 7\n",
            "1 3 2 5 8 7 Element Found\n"
          ]
        }
      ]
    },
    {
      "cell_type": "code",
      "source": [],
      "metadata": {
        "id": "pTuAdZgcUsfc"
      },
      "execution_count": null,
      "outputs": []
    }
  ]
}