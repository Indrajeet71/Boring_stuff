{
  "nbformat": 4,
  "nbformat_minor": 0,
  "metadata": {
    "colab": {
      "provenance": [],
      "gpuType": "T4"
    },
    "kernelspec": {
      "name": "python3",
      "display_name": "Python 3"
    },
    "language_info": {
      "name": "python"
    },
    "accelerator": "GPU",
    "gpuClass": "standard"
  },
  "cells": [
    {
      "cell_type": "code",
      "source": [
        "!nvcc --version"
      ],
      "metadata": {
        "colab": {
          "base_uri": "https://localhost:8080/"
        },
        "id": "nvZYiD__gRZz",
        "outputId": "0bb7e0ba-0c25-4c11-deb0-31ceae7bd330"
      },
      "execution_count": null,
      "outputs": [
        {
          "output_type": "stream",
          "name": "stdout",
          "text": [
            "nvcc: NVIDIA (R) Cuda compiler driver\n",
            "Copyright (c) 2005-2022 NVIDIA Corporation\n",
            "Built on Wed_Sep_21_10:33:58_PDT_2022\n",
            "Cuda compilation tools, release 11.8, V11.8.89\n",
            "Build cuda_11.8.r11.8/compiler.31833905_0\n"
          ]
        }
      ]
    },
    {
      "cell_type": "code",
      "source": [
        "!pip install git+https://github.com/andreinechaev/nvcc4jupyter.git\n"
      ],
      "metadata": {
        "colab": {
          "base_uri": "https://localhost:8080/"
        },
        "id": "a2ruupHEgRVD",
        "outputId": "b0f8ac32-f74b-49cd-9512-81cf5868f21e"
      },
      "execution_count": null,
      "outputs": [
        {
          "output_type": "stream",
          "name": "stdout",
          "text": [
            "Looking in indexes: https://pypi.org/simple, https://us-python.pkg.dev/colab-wheels/public/simple/\n",
            "Collecting git+https://github.com/andreinechaev/nvcc4jupyter.git\n",
            "  Cloning https://github.com/andreinechaev/nvcc4jupyter.git to /tmp/pip-req-build-r49xplii\n",
            "  Running command git clone --filter=blob:none --quiet https://github.com/andreinechaev/nvcc4jupyter.git /tmp/pip-req-build-r49xplii\n",
            "  Resolved https://github.com/andreinechaev/nvcc4jupyter.git to commit aac710a35f52bb78ab34d2e52517237941399eff\n",
            "  Preparing metadata (setup.py) ... \u001b[?25l\u001b[?25hdone\n",
            "Building wheels for collected packages: NVCCPlugin\n",
            "  Building wheel for NVCCPlugin (setup.py) ... \u001b[?25l\u001b[?25hdone\n",
            "  Created wheel for NVCCPlugin: filename=NVCCPlugin-0.0.2-py3-none-any.whl size=4305 sha256=d3245cc16e68155e26801e64da4ae730fc325fd6bf4b71e6e0acb4efe541f35c\n",
            "  Stored in directory: /tmp/pip-ephem-wheel-cache-l84d_ckk/wheels/a8/b9/18/23f8ef71ceb0f63297dd1903aedd067e6243a68ea756d6feea\n",
            "Successfully built NVCCPlugin\n",
            "Installing collected packages: NVCCPlugin\n",
            "Successfully installed NVCCPlugin-0.0.2\n"
          ]
        }
      ]
    },
    {
      "cell_type": "code",
      "source": [
        "%load_ext nvcc_plugin\n"
      ],
      "metadata": {
        "colab": {
          "base_uri": "https://localhost:8080/"
        },
        "id": "6mamPOQ_gRQD",
        "outputId": "afdb3605-43b6-40cc-b6e3-f50862edc897"
      },
      "execution_count": null,
      "outputs": [
        {
          "output_type": "stream",
          "name": "stdout",
          "text": [
            "created output directory at /content/src\n",
            "Out bin /content/result.out\n"
          ]
        }
      ]
    },
    {
      "cell_type": "code",
      "execution_count": null,
      "metadata": {
        "colab": {
          "base_uri": "https://localhost:8080/"
        },
        "id": "8m3R9s87gA2b",
        "outputId": "83f963fa-8d64-4367-d0e4-ab449ac8adf7"
      },
      "outputs": [
        {
          "output_type": "stream",
          "name": "stdout",
          "text": [
            "Overwriting vectoradd.cu\n"
          ]
        }
      ],
      "source": [
        "%%writefile vectoradd.cu\n",
        "#include <iostream>\n",
        "#include <cuda_runtime.h>\n",
        "using namespace std;\n",
        "__global__ void addVectors(int* A, int* B, int* C, int n) {\n",
        "  int i = blockIdx.x * blockDim.x + threadIdx.x;\n",
        "  if (i < n) {\n",
        "  C[i] = A[i] + B[i];\n",
        "}\n",
        "}\n",
        "\n",
        "\n",
        "void takeinput(int *A,int *B,int n)\n",
        "{\n",
        "  cout<<\"Enter \"<<n<<\" elements for vector A :\";\n",
        "  for (int i=0;i<n;i++)\n",
        "  {\n",
        "    cin>>A[i];\n",
        "  }\n",
        "  cout<<\"\\nEnter \"<<n<<\" elements for vector B :\";\n",
        "  for (int i=0;i<n;i++)\n",
        "  {\n",
        "    cin>>B[i];\n",
        "  }\n",
        "}\n",
        "\n",
        "\n",
        "int main() {\n",
        "  int n = 10;\n",
        "  int* A, * B, * C;\n",
        "  int size = n * sizeof(int);\n",
        "  // Allocate memory on the host\n",
        "  cudaMallocHost(&A, size);\n",
        "  cudaMallocHost(&B, size);\n",
        "  cudaMallocHost(&C, size);\n",
        "  // Initialize the vectors\n",
        "  \n",
        "  takeinput(A,B,n);\n",
        "  \n",
        "  // Allocate memory on the device\n",
        "  int* dev_A, * dev_B, * dev_C;\n",
        "  cudaMalloc(&dev_A, size);\n",
        "  cudaMalloc(&dev_B, size);\n",
        "  cudaMalloc(&dev_C, size);\n",
        "  // Copy data from host to device\n",
        "  cudaMemcpy(dev_A, A, size, cudaMemcpyHostToDevice);\n",
        "  cudaMemcpy(dev_B, B, size, cudaMemcpyHostToDevice);\n",
        "  // Launch the kernel\n",
        "  //int blockSize = 256;\n",
        "  //int numBlocks = (n + blockSize - 1) / blockSize;\n",
        "\n",
        "  addVectors <<<1,n>>>(dev_A,dev_B,dev_C,n);\n",
        "\n",
        "  // Copy data from device to host\n",
        "  cudaMemcpy(C, dev_C, size, cudaMemcpyDeviceToHost);\n",
        "  // Print the results\n",
        "  cout<<\"\\nVector Addition Result  :\";\n",
        "  for (int i = 0; i < n; i++) {\n",
        "    cout << C[i] << \" \";\n",
        "  }\n",
        "  cout << endl;\n",
        "  // Free memory\n",
        "  cudaFree(dev_A);\n",
        "  cudaFree(dev_B);\n",
        "  cudaFree(dev_C);\n",
        "  cudaFreeHost(A);\n",
        "  cudaFreeHost(B);\n",
        "  cudaFreeHost(C);\n",
        "  return 0;\n",
        "}\n"
      ]
    },
    {
      "cell_type": "code",
      "source": [
        "!nvcc vectoradd.cu -o vectoradd"
      ],
      "metadata": {
        "id": "Bd0bHs00hUYL"
      },
      "execution_count": null,
      "outputs": []
    },
    {
      "cell_type": "code",
      "source": [
        "!./vectoradd"
      ],
      "metadata": {
        "colab": {
          "base_uri": "https://localhost:8080/"
        },
        "id": "5mzFU7X1hrLv",
        "outputId": "2e484326-a041-4735-fa3a-fe4ac177f174"
      },
      "execution_count": null,
      "outputs": [
        {
          "output_type": "stream",
          "name": "stdout",
          "text": [
            "Enter 10 elements for vector A :1 2 3 4 5 6 7 8 9 10\n",
            "\n",
            "Enter 10 elements for vector B : 80 50 40 5 0 70 9 0 70 3\n",
            "\n",
            "Vector Addition Result  :81 52 43 9 5 76 16 8 79 13 \n"
          ]
        }
      ]
    },
    {
      "cell_type": "code",
      "source": [
        "%%writefile \"matrixmult.cu\"\n",
        "#include <cuda_runtime.h>\n",
        "#include <iostream>\n",
        "using namespace std;\n",
        "\n",
        "__global__ void matmul(int* A, int* B, int* C, int N) {\n",
        "int Row = blockIdx.y*blockDim.y+threadIdx.y;\n",
        "int Col = blockIdx.x*blockDim.x+threadIdx.x;\n",
        "if (Row < N && Col < N) {\n",
        "  int Pvalue = 0;\n",
        "  for (int k = 0; k < N; k++) {\n",
        "    Pvalue += A[Row*N+k] * B[k*N+Col];\n",
        "  }\n",
        "  C[Row*N+Col] = Pvalue;\n",
        "  }\n",
        "}\n",
        "\n",
        "void take_input(int *A,int *B,int N)\n",
        "{\n",
        "  cout<<\"Enter \"<<N*N<<\" elements in matrix A :\";\n",
        "\n",
        "  for (int i=0;i<N*N;i++)\n",
        "  {\n",
        "    cin>>A[i];\n",
        "  }\n",
        "\n",
        "  cout<<\"Enter \"<<N*N<<\" elements in matrix B :\";\n",
        "\n",
        "  for (int i=0;i<N*N;i++)\n",
        "  {\n",
        "    cin>>B[i];\n",
        "  }\n",
        "\n",
        "}\n",
        "\n",
        "int main() \n",
        "{\n",
        "  int N = 2;\n",
        "  int size = N * N * sizeof(int);\n",
        "  int* A,* B,* C;\n",
        "  int* dev_A, * dev_B, * dev_C;\n",
        "  \n",
        "  cudaMallocHost(&A, size);\n",
        "  cudaMallocHost(&B, size);\n",
        "  cudaMallocHost(&C, size);\n",
        "  cudaMalloc(&dev_A, size);\n",
        "  cudaMalloc(&dev_B, size);\n",
        "  cudaMalloc(&dev_C, size);\n",
        " \n",
        "  // Initialize matrices A and B\n",
        "\n",
        "  take_input(A,B,N);\n",
        "\n",
        "  cudaMemcpy(dev_A, A, size, cudaMemcpyHostToDevice);\n",
        "  cudaMemcpy(dev_B, B, size, cudaMemcpyHostToDevice);\n",
        "  \n",
        "  dim3 dimBlock(2,2);\n",
        "  dim3 dimGrid(N/dimBlock.x, N/dimBlock.y);\n",
        "\n",
        "  matmul<<<dimGrid,dimBlock>>>(dev_A, dev_B, dev_C, N);\n",
        "  cudaMemcpy(C, dev_C,size,cudaMemcpyDeviceToHost);\n",
        "\n",
        "  // Print the result\n",
        "\n",
        "  cout<<\"Result of matrix multiplication :\\n\";\n",
        "\n",
        "  for (int i = 0; i < N; i++)\n",
        "  {\n",
        "    for (int j = 0; j < N; j++)\n",
        "    {\n",
        "      cout << C[i*N+j] << \" \";\n",
        "    }\n",
        "    cout << \"\\n\";\n",
        "  }\n",
        "  // Free memory\n",
        "  cudaFree(dev_A);\n",
        "  cudaFree(dev_B);\n",
        "  cudaFree(dev_C);\n",
        "  cudaFreeHost(A);\n",
        "  cudaFreeHost(B);\n",
        "  cudaFreeHost(C);\n",
        "  return 0;\n",
        "}\n"
      ],
      "metadata": {
        "colab": {
          "base_uri": "https://localhost:8080/"
        },
        "id": "lyvjRMPz0gG-",
        "outputId": "8db22a3d-03c5-4a24-a781-6a246b241611"
      },
      "execution_count": null,
      "outputs": [
        {
          "output_type": "stream",
          "name": "stdout",
          "text": [
            "Writing matrixmult.cu\n"
          ]
        }
      ]
    },
    {
      "cell_type": "code",
      "source": [
        "!nvcc matrixmult.cu -o matrixmult"
      ],
      "metadata": {
        "id": "v85zUCl0jXy6"
      },
      "execution_count": null,
      "outputs": []
    },
    {
      "cell_type": "code",
      "source": [
        "!./matrixmult"
      ],
      "metadata": {
        "colab": {
          "base_uri": "https://localhost:8080/"
        },
        "id": "4mp6-h1EwtjC",
        "outputId": "1d71d2ce-519e-4e02-ca8e-26d80271fdfd"
      },
      "execution_count": null,
      "outputs": [
        {
          "output_type": "stream",
          "name": "stdout",
          "text": [
            "Enter 4 elements in matrix A :5 6 7 8\n",
            "Enter 4 elements in matrix B : 1 2 3 4\n",
            "Result of matrix multiplication :\n",
            "23 34 \n",
            "31 46 \n"
          ]
        }
      ]
    },
    {
      "cell_type": "code",
      "source": [],
      "metadata": {
        "id": "0PYmvnqQ0vDw"
      },
      "execution_count": null,
      "outputs": []
    }
  ]
}